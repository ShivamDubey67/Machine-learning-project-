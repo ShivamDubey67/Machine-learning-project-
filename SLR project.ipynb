{

 "cells": [

  {

   "cell_type": "markdown",

   "metadata": {},

   "source": [

    "# Simple Linear Regression Project\n",

    "\n",

    "\n",

    "## Modelling the linear relationship between Sales and Advertising dataset\n",

    "\n",

    "\n"

   ]

  },

  {

   "cell_type": "markdown",

   "metadata": {},

   "source": [

    "## Project overview\n",

    "\n",

    "\n",

    "In this project, I build a Simple Linear Regression model to study the linear relationship between Sales and Advertising dataset for a dietary weight control product.\n",

    "\n"

   ]

  },

  {

   "cell_type": "markdown",

   "metadata": {},

   "source": [

    "###  Linear Regression\n",

    "\n",

    "\n",

    "Linear Regression is a statistical technique which is used to find the linear relationship between dependent and one or more independent variables. This technique is applicable for Supervised learning Regression problems where we try to predict a continuous variable.\n",

    "\n",

    "\n",

    "Linear Regression can be further classified into two types – Simple and Multiple Linear Regression. In this project, I employ Simple Linear Regression technique where I have one independent and one dependent variable. It is the simplest form of Linear Regression where we fit a straight line to the data."

   ]

  },

  {

   "cell_type": "markdown",

   "metadata": {},

   "source": [

    "###  Simple Linear Regression (SLR)\n",

    "\n",

    "Simple Linear Regression (or SLR) is the simplest model in machine learning. It models the linear relationship between the independent and dependent variables. \n",

    "\n",

    "In this project, there is one independent or input variable which represents the Sales data and is denoted by X. Similarly, there is one dependent or output variable which represents the Advertising data and is denoted by y. We want to build a linear relationship between these variables. This linear relationship can be modelled by mathematical equation of the form:-\n",

    "\t\t\t\t \n",

    "                 \n",

    "                 Y = β0   + β1*X    -------------   (1)\n",

    "                 \n",

    "\n",

    "In this equation, X and Y are called independent and dependent variables respectively,\n",

    "\n",

    "β1 is the coefficient for independent variable and\n",

    "\n",

    "β0 is the constant term.\n",

    "\n",

    "β0 and β1 are called parameters of the model.\n",

    " \n",

    "\n",

    "\n",

    "For simplicity, we can compare the above equation with the basic line equation of the form:-\n",

    " \n",

    "                   y = ax + b       ----------------- (2)\n",

    "\n",

    "We can see that \n",

    "\n",

    "slope of the line is given by, a =  β1,  and\n",

    "\n",

    "intercept of the line by b =  β0. \n",

    "\n",

    "\n",

    "In this Simple Linear Regression model, we want to fit a line which estimates the linear relationship between X and Y. So, the question of fitting reduces to estimating the parameters of the model β0 and β1. \n",

    "\n",

    " \n",

    "\n",

    "## Ordinary Least Square Method\n",

    "\n",

    "As I have described earlier, the Sales and Advertising data are given by X and y respectively. We can draw a scatter plot between X and y which shows the relationship between them.\n",

    "\n",

    " \n",

    "\n",

    "Now, our task is to find a line which best fits this scatter plot. This line will help us to predict the value of any Target variable for any given Feature variable. This line is called **Regression line**. \n",

    "\n",

    "\n",

    "We can define an error function for any line. Then, the regression line is the one which minimizes the error function. Such an error function is also called a **Cost function**. \n",

    "\n",

    "\n",

    "## Cost Function\n",

    "\n",

    "We want the Regression line to resemble the dataset as closely as possible. In other words, we want the line to be as close to actual data points as possible. It can be achieved by minimizing the vertical distance between the actual data point and fitted line. I calculate the vertical distance between each data point and the line. This distance is called the **residual**. \n",

    "\n",

    "\n",

    "So, in a regression model, we try to minimize the residuals by finding the line of best fit. The residuals are represented by the vertical dotted lines from actual data points to the line.\n",

    "\n",

    " \n",

    "We can try to minimize the sum of the residuals, but then a large positive residual would cancel out a large negative residual. For this reason, we minimize the sum of the squares of the residuals. \n",

    "\n",

    "\n",

    "Mathematically, we denote actual data points by yi and predicted data points by ŷi. So, the residual for a data point i would be given as \n",

    "\t\t\t\t\n",

    "                di = yi -  ŷi\n",

    "\n",

    "Sum of the squares of the residuals is given as:\n",

    "\n",

    "\t\t\t\tD = Ʃ di**2       for all data points\n",

    "                \n",

    "\n",

    "This is the **Cost function**. It denotes the total error present in the model which is the sum of the total errors of each individual data point. \n",

    "\n",

    "We can estimate the parameters of the model β0 and β1 by minimize the error in the model by minimizing D. Thus, we can find the regression line given by equation (1).\n",

    "\n",

    "\n",

    "This method of finding the parameters of the model and thus regression line is called **Ordinary Least Square Method**.\n"

   ]

  },

  {

   "cell_type": "markdown",

   "metadata": {},

   "source": [

    "## The problem statement\n",

    "\n",

    "The aim of building a machine learning model is to solve a problem and to define a metric to measure model performance. \n",

    "\n",

    "The problem is to model and investigate the linear relationship between Sales and Advertising dataset for a dietary weight control product. \n",

    "\n",

    "I have used two performance metrics RMSE (Root Mean Square Value) and R2 Score value to compute our model performance.\n"

   ]

  },

  {

   "cell_type": "markdown",

   "metadata": {},

   "source": [

    "## Software information\n",

    "\n",

    "I did this project using Jupyter notebook (Jupyter notebook server 5.5.0).\n",

    "\n",

    "The server is running on Python (Python 3.6.5), Anaconda distribution.\n",

    " \n"

   ]

  },

  {

   "cell_type": "markdown",

   "metadata": {},

   "source": [

    "## Python libraries\n",

    "\n",

    "I have Anaconda Python distribution installed on my system. It comes with most of the standard Python libraries I need for this project. The basic Python libraries used in this project are:-\n",

    "\n",

    " •\tNumpy – It provides a fast numerical array structure and operating functions.\n",

    " \n",

    " •\tpandas – It provides tools for data storage, manipulation and analysis tasks.\n",

    " \n",

    " •\tScikit-Learn – The required machine learning library in Python.\n",

    " \n",

    " •\tMatplotlib – It is the basic plotting library in Python. It provides tools for making plots. \n"

   ]

  },

  {

   "cell_type": "code",

   "execution_count": 1,

   "metadata": {},

   "outputs": [],

   "source": [

    "# Import necessary libraries\n",

    "\n",

    "import numpy as np\n",

    "import pandas as pd\n",

    "import matplotlib.pyplot as plt\n"

   ]

  },

  {

   "cell_type": "code",

   "execution_count": 2,

   "metadata": {},

   "outputs": [],

   "source": [

    "% matplotlib inline\n",

    "\n",

    "# The above command sets the backend of matplotlib to the 'inline' backend. \n",

    "# It means the output of plotting commands is displayed inline."

   ]

  },

  {

   "cell_type": "markdown",

   "metadata": {},

   "source": [

    "## About the dataset\n",

    "\n",

    "The data set has been imported from the econometrics website with the following url:-\n",

    "\n",

    "http://www.econometrics.com/intro/sales.htm\n",

    "\n",

    "This data set contains Sales and Advertising expenditures for a dietary weight control product. It contains monthly data for 36 months. The variables in this data set are Sales and Advertising.\n",

    "\n",

    "\n"

   ]

  },

  {

   "cell_type": "code",

   "execution_count": 3,

   "metadata": {},

   "outputs": [],

   "source": [

    "# Import the data\n",

    "\n",

    "url = \"C:/project_datasets/SALES.txt\"\n",

    "df = pd.read_csv(url, sep='\\t', header=None)"

   ]

  },

  {

   "cell_type": "markdown",

   "metadata": {},

   "source": [

    "## Exploratory data analysis\n",

    "\n",

    "\n",

    "First, I import the dataset into the dataframe with the standard read_csv () function of pandas library and assign it to the df variable. Then, I conducted exploratory data analysis to get a feel for the data.\n",

    "\n",

    "\n",

    "### pandas shape attribute\n",

    "\n",

    "The shape attribute of the pandas dataframe gives the dimensions of the dataframe."

   ]

  },

  {

   "cell_type": "code",

   "execution_count": 4,

   "metadata": {},

   "outputs": [

    {

     "name": "stdout",

     "output_type": "stream",

     "text": [

      "(36, 2)\n"

     ]

    }

   ],

   "source": [

    "# Exploratory data analysis\n",

    "\n",

    "# View the dimensions of df\n",

    "\n",

    "print(df.shape)"

   ]

  },

  {

   "cell_type": "markdown",

   "metadata": {},

   "source": [

    "### pandas head() method\n",

    "\n",

    "I viewed the top 5 rows of the pandas dataframe with the pandas head() method."

   ]

  },

  {

   "cell_type": "code",

   "execution_count": 5,

   "metadata": {},

   "outputs": [

    {

     "name": "stdout",

     "output_type": "stream",

     "text": [

      "      0     1\n",

      "0  12.0  15.0\n",

      "1  20.5  16.0\n",

      "2  21.0  18.0\n",

      "3  15.5  27.0\n",

      "4  15.3  21.0\n"

     ]

    }

   ],

   "source": [

    "# View the top 5 rows of df\n",

    "\n",

    "print(df.head())"

   ]

  },

  {

   "cell_type": "markdown",

   "metadata": {},

   "source": [

    "### pandas columns attribute\n",

    "\n",

    "I renamed the column labels of the dataframe with the columns attribute."

   ]

  },

  {

   "cell_type": "code",

   "execution_count": 6,

   "metadata": {},

   "outputs": [],

   "source": [

    "# Rename columns of df dataframe\n",

    "\n",

    "df.columns = ['Sales', 'Advertising']"

   ]

  },

  {

   "cell_type": "markdown",

   "metadata": {},

   "source": [

    "### column names renamed\n",

    "\n",

    "I viewed the renamed column names."

   ]

  },

  {

   "cell_type": "code",

   "execution_count": 7,

   "metadata": {},

   "outputs": [

    {

     "name": "stdout",

     "output_type": "stream",

     "text": [

      "   Sales  Advertising\n",

      "0   12.0         15.0\n",

      "1   20.5         16.0\n",

      "2   21.0         18.0\n",

      "3   15.5         27.0\n",

      "4   15.3         21.0\n"

     ]

    }

   ],

   "source": [

    "# View the top 5 rows of df with column names renamed\n",

    "\n",

    "print(df.head())"

   ]

  },

  {

   "cell_type": "markdown",

   "metadata": {},

   "source": [

    "### pandas info() method\n",

    "\n",

    "I viewed the summary of the dataframe with the pandas info() method."

   ]

  },

  {

   "cell_type": "code",

   "execution_count": 8,

   "metadata": {},

   "outputs": [

    {

     "name": "stdout",

     "output_type": "stream",

     "text": [

      "<class 'pandas.core.frame.DataFrame'>\n",

      "RangeIndex: 36 entries, 0 to 35\n",

      "Data columns (total 2 columns):\n",

      "Sales          36 non-null float64\n",

      "Advertising    36 non-null float64\n",

      "dtypes: float64(2)\n",

      "memory usage: 656.0 bytes\n",

      "None\n"

     ]

    }

   ],

   "source": [

    "# View dataframe summary\n",

    "\n",

    "print(df.info())"

   ]

  },

  {

   "cell_type": "markdown",

   "metadata": {},

   "source": [

    "### pandas describe() method\n",

    "\n",

    "I look at the descriptive statistics of the dataframe with the pandas describe() method."

   ]

  },

  {

   "cell_type": "code",

   "execution_count": 9,

   "metadata": {},

   "outputs": [

    {

     "name": "stdout",

     "output_type": "stream",

     "text": [

      "           Sales  Advertising\n",

      "count  36.000000    36.000000\n",

      "mean   24.255556    28.527778\n",

      "std     6.185118    18.777625\n",

      "min    12.000000     1.000000\n",

      "25%    20.300000    15.750000\n",

      "50%    24.250000    23.000000\n",

      "75%    28.600000    41.000000\n",

      "max    36.500000    65.000000\n"

     ]

    }

   ],

   "source": [

    "# View descriptive statistics\n",

    "\n",

    "print(df.describe())"

   ]

  },

  {

   "cell_type": "markdown",

   "metadata": {},

   "source": [

    "## Independent and Dependent Variables\n",

    "\n",

    "\n",

    "In this project, I refer Independent variable as Feature variable and Dependent variable as Target variable. These variables are also recognized by different names as follows: -\n",

    "\n",

    "\n",

    "### Independent variable\n",

    "\n",

    "Independent variable is also called Input variable and is denoted by X. In practical applications, independent variable is also called Feature variable or Predictor variable. We can denote it as:-\n",

    "\n",

    "Independent or Input variable (X) = Feature variable = Predictor variable \n",

    "\n",

    "\n",

    "### Dependent variable\n",

    "\n",

    "Dependent variable is also called Output variable and is denoted by y. \n",

    "\n",

    "Dependent variable is also called Target variable or Response variable. It can be denoted it as follows:-\n",

    "\n",

    "Dependent or Output variable (y) = Target variable = Response variable\n"

   ]

  },

  {

   "cell_type": "code",

   "execution_count": 10,

   "metadata": {},

   "outputs": [],

   "source": [

    "# Declare feature variable and target variable\n",

    "\n",

    "X = df['Sales'].values\n",

    "y = df['Advertising'].values\n",

    "\n",

    "# Sales and Advertising data values are given by X and y respectively.\n",

    "\n",

    "# Values attribute of pandas dataframe returns the numpy arrays."

   ]

  },

  {

   "cell_type": "markdown",

   "metadata": {},

   "source": [

    "## Visual exploratory data analysis\n",

    "\n",

    "I visualize the relationship between X and y by plotting a scatterplot between X and y."

   ]

  },

  {

   "cell_type": "code",

   "execution_count": 11,

   "metadata": {},

   "outputs": [

    {

     "data": {

      "image/png": "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
